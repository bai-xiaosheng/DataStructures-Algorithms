{
 "cells": [
  {
   "cell_type": "markdown",
   "metadata": {},
   "source": [
    "# 基本概念\n",
    "在 python 中字符串是不可变的，即创建后不可以修改。使用 `''`,`\"\"`,`\"\"\"\"\"\"` 创建。注意索引切片时是**左闭右开**"
   ]
  },
  {
   "cell_type": "code",
   "execution_count": 18,
   "metadata": {},
   "outputs": [
    {
     "name": "stdout",
     "output_type": "stream",
     "text": [
      "P\n",
      "n\n",
      "yth\n"
     ]
    }
   ],
   "source": [
    "# 索引从 0 开始，支持负数索引（如 -1 表示最后一个字符）。\n",
    "# 切片 s[a:b] 遵循左闭右开规则（包含 a，不包含 b）。\n",
    "s = \"Python\"\n",
    "print(s[0])     # 'P'\n",
    "print(s[-1])    # 'n'\n",
    "print(s[1:4])   # 'yth'"
   ]
  },
  {
   "cell_type": "markdown",
   "metadata": {},
   "source": [
    "# 常用字符串操作\n",
    "## 1. 拼接\n",
    "`+` 方法简单，但时间复杂度为O(n^2)，每次拼接都会创建新的字符串对象\n",
    "\n",
    "`join()` 方法预先收集所有待拼接元素，一次性分配内存并生成最终字符串，时间复杂度为O(n)，适合大量字符拼接"
   ]
  },
  {
   "cell_type": "code",
   "execution_count": 19,
   "metadata": {},
   "outputs": [
    {
     "name": "stdout",
     "output_type": "stream",
     "text": [
      "Hello World\n",
      "Hello World\n"
     ]
    }
   ],
   "source": [
    "s1 = \"Hello\"\n",
    "s2 = \"World\"\n",
    "print(s1 + \" \" + s2)  # \"Hello World\"\n",
    "print(\" \".join([s1,s2]))"
   ]
  },
  {
   "cell_type": "markdown",
   "metadata": {},
   "source": [
    "## 2. 重复"
   ]
  },
  {
   "cell_type": "code",
   "execution_count": 20,
   "metadata": {},
   "outputs": [
    {
     "name": "stdout",
     "output_type": "stream",
     "text": [
      "HiHiHi\n"
     ]
    }
   ],
   "source": [
    "s = \"Hi\"\n",
    "print(s * 3)  # \"HiHiHi\""
   ]
  },
  {
   "cell_type": "markdown",
   "metadata": {},
   "source": [
    "## 3. 查找、替换\n",
    "* `find()`/`index()`: 查找子串位置，find 未找到返回-1，index会报错\n",
    "* `replace()`:"
   ]
  },
  {
   "cell_type": "code",
   "execution_count": 21,
   "metadata": {},
   "outputs": [
    {
     "name": "stdout",
     "output_type": "stream",
     "text": [
      "0\n",
      "orange banana apple\n"
     ]
    }
   ],
   "source": [
    "s = \"apple banana apple\"\n",
    "print(s.find(\"apple\"))     # 0\n",
    "print(s.replace(\"apple\", \"orange\", 1))  # \"orange banana apple\""
   ]
  },
  {
   "cell_type": "markdown",
   "metadata": {},
   "source": [
    "## 4. 大小写转换"
   ]
  },
  {
   "cell_type": "code",
   "execution_count": 22,
   "metadata": {},
   "outputs": [
    {
     "name": "stdout",
     "output_type": "stream",
     "text": [
      "HELLO PYTHON\n",
      "hello python\n",
      "Hello Python\n"
     ]
    }
   ],
   "source": [
    "s = \"Hello Python\"\n",
    "print(s.upper())\n",
    "print(s.lower())\n",
    "print(s.title())"
   ]
  },
  {
   "cell_type": "markdown",
   "metadata": {},
   "source": [
    "## 5. 去除空白"
   ]
  },
  {
   "cell_type": "code",
   "execution_count": 23,
   "metadata": {},
   "outputs": [
    {
     "name": "stdout",
     "output_type": "stream",
     "text": [
      "Python 6\n",
      "Python   8\n"
     ]
    }
   ],
   "source": [
    "s = \"  Python  \"\n",
    "print(s.strip(), len(s.strip()))      # \"Python\"（去首尾空格）\n",
    "print(s.lstrip(), len(s.lstrip()))     # \"Python  \"（去左空格）"
   ]
  },
  {
   "cell_type": "markdown",
   "metadata": {},
   "source": [
    "## 6. 拆分和合并"
   ]
  },
  {
   "cell_type": "code",
   "execution_count": 24,
   "metadata": {},
   "outputs": [
    {
     "name": "stdout",
     "output_type": "stream",
     "text": [
      "['a', 'b', 'c']\n",
      "a-b-c\n"
     ]
    }
   ],
   "source": [
    "s = \"a,b,c\"\n",
    "lst = s.split(\",\")  # 按照字符分割\n",
    "print(lst)   # ['a', 'b', 'c']\n",
    "print(\"-\".join(lst))  # \"a-b-c\""
   ]
  },
  {
   "cell_type": "markdown",
   "metadata": {},
   "source": [
    "## 7. 格式化"
   ]
  },
  {
   "cell_type": "code",
   "execution_count": 25,
   "metadata": {},
   "outputs": [
    {
     "name": "stdout",
     "output_type": "stream",
     "text": [
      "Alice is 25 years old.\n",
      "Alice is 25 years old\n"
     ]
    }
   ],
   "source": [
    "# f-string（推荐）\n",
    "name = \"Alice\"\n",
    "age = 25\n",
    "print(f\"{name} is {age} years old.\")  # \"Alice is 25 years old.\"\n",
    "# format()方法\n",
    "print(\"{} is {} years old\".format(name, age))"
   ]
  },
  {
   "cell_type": "markdown",
   "metadata": {},
   "source": [
    "## 8. 判断开头与结尾"
   ]
  },
  {
   "cell_type": "code",
   "execution_count": 26,
   "metadata": {},
   "outputs": [
    {
     "name": "stdout",
     "output_type": "stream",
     "text": [
      "True\n",
      "True\n"
     ]
    }
   ],
   "source": [
    "s = \"hello.txt\"\n",
    "print(s.startswith(\"hello\"))  # True\n",
    "print(s.endswith(\".txt\"))     # True"
   ]
  },
  {
   "cell_type": "markdown",
   "metadata": {},
   "source": [
    "## 9. 长度"
   ]
  },
  {
   "cell_type": "code",
   "execution_count": 27,
   "metadata": {},
   "outputs": [
    {
     "name": "stdout",
     "output_type": "stream",
     "text": [
      "5\n"
     ]
    }
   ],
   "source": [
    "s = \"hello\"\n",
    "print(len(s))"
   ]
  }
 ],
 "metadata": {
  "kernelspec": {
   "display_name": "deep_learn_note",
   "language": "python",
   "name": "python3"
  },
  "language_info": {
   "codemirror_mode": {
    "name": "ipython",
    "version": 3
   },
   "file_extension": ".py",
   "mimetype": "text/x-python",
   "name": "python",
   "nbconvert_exporter": "python",
   "pygments_lexer": "ipython3",
   "version": "3.10.16"
  }
 },
 "nbformat": 4,
 "nbformat_minor": 2
}
