{
 "cells": [
  {
   "cell_type": "markdown",
   "metadata": {},
   "source": [
    "## 数组定义\n",
    "\n",
    "物理空间内连续存储。\n",
    "\n",
    "## 基本语法（python版本）\n",
    "在Python中，数组有三种主要类型：列表（list）、元组（tuple）和字典（dictionary）\n",
    "\n",
    "list里面的数据可以修改，元组一旦创建后不可以修改"
   ]
  },
  {
   "cell_type": "markdown",
   "metadata": {},
   "source": [
    "## List\n",
    "list里面的数据可以是数字、字母，甚至是list"
   ]
  },
  {
   "cell_type": "markdown",
   "metadata": {},
   "source": [
    "查看所有方法："
   ]
  },
  {
   "cell_type": "code",
   "execution_count": 3,
   "metadata": {},
   "outputs": [
    {
     "name": "stdout",
     "output_type": "stream",
     "text": [
      "['__add__', '__class__', '__class_getitem__', '__contains__', '__delattr__', '__delitem__', '__dir__', '__doc__', '__eq__', '__format__', '__ge__', '__getattribute__', '__getitem__', '__getstate__', '__gt__', '__hash__', '__iadd__', '__imul__', '__init__', '__init_subclass__', '__iter__', '__le__', '__len__', '__lt__', '__mul__', '__ne__', '__new__', '__reduce__', '__reduce_ex__', '__repr__', '__reversed__', '__rmul__', '__setattr__', '__setitem__', '__sizeof__', '__str__', '__subclasshook__', 'append', 'clear', 'copy', 'count', 'extend', 'index', 'insert', 'pop', 'remove', 'reverse', 'sort']\n"
     ]
    }
   ],
   "source": [
    "print(dir(list))"
   ]
  },
  {
   "cell_type": "markdown",
   "metadata": {},
   "source": [
    "1. 创建，使用[]，元素之间用,隔开\n",
    "\n",
    "* []里面可以使用for循环和if语句\n",
    "* 谨慎使用[]*n，因为这样创建子列表是共享同一个内存，一个子列表里面的值修改，其它的值也会修改。\n",
    "* 为了安全建议一直使用for循环创建list"
   ]
  },
  {
   "cell_type": "code",
   "execution_count": 7,
   "metadata": {},
   "outputs": [
    {
     "name": "stdout",
     "output_type": "stream",
     "text": [
      "[1, 'a', 2]\n",
      "[1, ['a', 'b'], 2]\n",
      "[0, 1, 2, 3, 4, 5, 6, 7, 8, 9]\n",
      "[0, 2, 4, 6, 8]\n",
      "[0, 0, 0]\n",
      "[1, 0, 0]\n",
      "[[0, 0, 0], [0, 0, 0], [0, 0, 0]]\n",
      "[[1, 0, 0], [1, 0, 0], [1, 0, 0]]\n",
      "[0, 0, 0]\n",
      "[1, 0, 0]\n",
      "i is [[0, 1], [0, 1], [0, 1]]\n",
      "i now is [[0, 1, 2], [0, 1, 2], [0, 1, 2]]\n"
     ]
    }
   ],
   "source": [
    "a = [1, 'a', 2]\n",
    "print(a)\n",
    "b = [1, ['a', 'b'], 2]\n",
    "print(b)\n",
    "c = [i for i in range(10)]\n",
    "print(c)\n",
    "d = [i for i in range(10) if i % 2 == 0]\n",
    "print(d)\n",
    "e = [0] * 3\n",
    "print(e)\n",
    "e[0] = 1\n",
    "print(e)\n",
    "f = [[0]*3] *3\n",
    "print(f)\n",
    "f[0][0] = 1\n",
    "print(f)\n",
    "g = [0 for _ in range(3)]  # 这里是因为整数是不可变对象，所以安全，如果创建时使用可变对象，则修改其中一个元素，其他元素也会变，不安全\n",
    "print(g)\n",
    "g[0] = 1\n",
    "print(g)\n",
    "h = [0, 1]\n",
    "i = [h] * 3\n",
    "print(f'i is {i}')\n",
    "i[0].append(2)\n",
    "print(f'i now is {i}')"
   ]
  },
  {
   "cell_type": "markdown",
   "metadata": {},
   "source": [
    "2. 增加数据\n",
    "* 使用append()在末尾添加数据,作用是原地修改列表​（即在原列表末尾添加元素），但它返回的值是 None\n",
    "* 使用extend()在末尾增加一系列数据，返回值为None\n",
    "* 使用insert(i, x)在第i个位置添加元素，返回值为None\n",
    "* 使用a[2:2] = [x, x, x]在第2个位置添加一系列数据"
   ]
  },
  {
   "cell_type": "code",
   "execution_count": 26,
   "metadata": {},
   "outputs": [
    {
     "name": "stdout",
     "output_type": "stream",
     "text": [
      "[1, 'a', 2, 'append']\n",
      "[1, ['a', 'b'], 2, 1, 2, 3]\n",
      "['inser', 0, 1, 2, 3, 4, 5, 6, 7, 8, 9]\n",
      "[0, 2, 1, 2, 3, 4, 6, 8]\n"
     ]
    }
   ],
   "source": [
    "a.append('append')\n",
    "print(a)\n",
    "b.extend([1, 2, 3])\n",
    "print(b)\n",
    "c.insert(0, 'inser')\n",
    "print(c)\n",
    "d[2:2] = [1,2, 3]  # 注意与extend的区别\n",
    "print(d)"
   ]
  },
  {
   "cell_type": "markdown",
   "metadata": {},
   "source": [
    "3. 删除数据\n",
    "   * remove(x)，删除列表里面的x，第一个找到的x\n",
    "   * del  \n",
    "   * pop()，删除指定位置的数据，默认是最后一个\n",
    "   * clear()，删除整个list"
   ]
  },
  {
   "cell_type": "code",
   "execution_count": 10,
   "metadata": {},
   "outputs": [
    {
     "name": "stdout",
     "output_type": "stream",
     "text": [
      "['a', 2]\n",
      "[2]\n",
      "[]\n",
      "[]\n"
     ]
    }
   ],
   "source": [
    "a.remove(1)\n",
    "print(a)\n",
    "del a[0]\n",
    "print(a)\n",
    "a.pop()\n",
    "print(a)\n",
    "b.clear()\n",
    "print(b)"
   ]
  },
  {
   "cell_type": "markdown",
   "metadata": {},
   "source": [
    "4. 查找数据\n",
    "* 使用a[i]"
   ]
  },
  {
   "cell_type": "code",
   "execution_count": 14,
   "metadata": {},
   "outputs": [
    {
     "name": "stdout",
     "output_type": "stream",
     "text": [
      "[3]\n",
      "[2]\n",
      "[[3], [2]]\n",
      "[]\n"
     ]
    }
   ],
   "source": [
    "print(a[0])\n",
    "print(a[-1])\n",
    "print(a[0:3])  # 左闭右开\n",
    "print(a[0:0])  # 返回为空 list"
   ]
  },
  {
   "cell_type": "code",
   "execution_count": 15,
   "metadata": {},
   "outputs": [
    {
     "name": "stdout",
     "output_type": "stream",
     "text": [
      "a is [[3], [2]]\n",
      "[3]\n",
      "[3, 2]\n"
     ]
    }
   ],
   "source": [
    "a = [[3],[2]]\n",
    "print(f\"a is {a}\")\n",
    "b = []\n",
    "b.extend(a[0:2][0])\n",
    "print(b)   # 这样只会得到3，因为a[0:2]先得到[[3],[2]]，然后取第一个得到[3]\n",
    "c = []\n",
    "c.extend(x[0] for x in a[0:2])\n",
    "print(c)"
   ]
  },
  {
   "cell_type": "markdown",
   "metadata": {},
   "source": [
    "5. 查询大小"
   ]
  },
  {
   "cell_type": "code",
   "execution_count": 9,
   "metadata": {},
   "outputs": [
    {
     "name": "stdout",
     "output_type": "stream",
     "text": [
      "2\n",
      "3\n"
     ]
    }
   ],
   "source": [
    "a = [[0,1,2],[3,4,5]]\n",
    "print(len(a))\n",
    "print(len(a[0]))  # 没有 size() 方法"
   ]
  },
  {
   "cell_type": "markdown",
   "metadata": {},
   "source": [
    "6. 排序"
   ]
  },
  {
   "cell_type": "code",
   "execution_count": 4,
   "metadata": {},
   "outputs": [
    {
     "name": "stdout",
     "output_type": "stream",
     "text": [
      "[3, 4, 1]\n",
      "[1, 3, 4]\n"
     ]
    }
   ],
   "source": [
    "a = [3, 4, 1]\n",
    "print(a)\n",
    "a.sort()  # 默认从小到大\n",
    "print(a)"
   ]
  },
  {
   "cell_type": "code",
   "execution_count": 8,
   "metadata": {},
   "outputs": [
    {
     "name": "stdout",
     "output_type": "stream",
     "text": [
      "begin: 0\n",
      "after while: 1\n",
      "begin: 1\n",
      "after while: 1\n",
      "begin: 2\n",
      "after while: 3\n",
      "begin: 3\n",
      "after while: 3\n"
     ]
    }
   ],
   "source": [
    "for i in range(4):\n",
    "    print(\"begin:\",i)\n",
    "    while i % 2 == 0:  # 注意这个while不会改变外面的循环，因为外面循环的 i 不是通过加 1 变化的\n",
    "        i += 1\n",
    "    print(\"after while:\",i)"
   ]
  }
 ],
 "metadata": {
  "kernelspec": {
   "display_name": "deep_learn_note",
   "language": "python",
   "name": "python3"
  },
  "language_info": {
   "codemirror_mode": {
    "name": "ipython",
    "version": 3
   },
   "file_extension": ".py",
   "mimetype": "text/x-python",
   "name": "python",
   "nbconvert_exporter": "python",
   "pygments_lexer": "ipython3",
   "version": "3.10.16"
  }
 },
 "nbformat": 4,
 "nbformat_minor": 2
}
