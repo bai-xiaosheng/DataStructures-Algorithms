{
 "cells": [
  {
   "cell_type": "markdown",
   "metadata": {},
   "source": [
    "## 基础概念\n",
    "\n",
    "* 字典中的键不可以重复，重复的键以最后一定定义的值为准，值可以重复。\n",
    "* `dict` 作为 python 内置的关键字和内置函数，变量名不建议命名为 `dict`。\n",
    "* 键必须是不可变的对象，例如：字符串、数字或元组。值可以为任意类型。"
   ]
  },
  {
   "cell_type": "code",
   "execution_count": 2,
   "metadata": {},
   "outputs": [
    {
     "name": "stdout",
     "output_type": "stream",
     "text": [
      "['__class__', '__class_getitem__', '__contains__', '__delattr__', '__delitem__', '__dir__', '__doc__', '__eq__', '__format__', '__ge__', '__getattribute__', '__getitem__', '__getstate__', '__gt__', '__hash__', '__init__', '__init_subclass__', '__ior__', '__iter__', '__le__', '__len__', '__lt__', '__ne__', '__new__', '__or__', '__reduce__', '__reduce_ex__', '__repr__', '__reversed__', '__ror__', '__setattr__', '__setitem__', '__sizeof__', '__str__', '__subclasshook__', 'clear', 'copy', 'fromkeys', 'get', 'items', 'keys', 'pop', 'popitem', 'setdefault', 'update', 'values']\n"
     ]
    }
   ],
   "source": [
    "print(dir(dict))"
   ]
  },
  {
   "cell_type": "markdown",
   "metadata": {},
   "source": [
    "## 创建字典\n",
    "* 使用 {key : value}"
   ]
  },
  {
   "cell_type": "code",
   "execution_count": 1,
   "metadata": {},
   "outputs": [
    {
     "name": "stdout",
     "output_type": "stream",
     "text": [
      "{'a': 1, 2: 'two', (3, 4): [3, 4]}\n"
     ]
    }
   ],
   "source": [
    "tinydict = {'a' : 1, 2 : \"two\", (3,4) : [3, 4 ]}\n",
    "print(tinydict)"
   ]
  },
  {
   "cell_type": "markdown",
   "metadata": {},
   "source": [
    "## 查询字典\n",
    "* [key]\n",
    "* 如果查询字典中不存在的值，默认会报错，可以设置默认值。"
   ]
  },
  {
   "cell_type": "code",
   "execution_count": 6,
   "metadata": {},
   "outputs": [
    {
     "name": "stdout",
     "output_type": "stream",
     "text": [
      "1\n",
      "default\n"
     ]
    },
    {
     "ename": "KeyError",
     "evalue": "'error'",
     "output_type": "error",
     "traceback": [
      "\u001b[1;31m---------------------------------------------------------------------------\u001b[0m",
      "\u001b[1;31mKeyError\u001b[0m                                  Traceback (most recent call last)",
      "Cell \u001b[1;32mIn[6], line 5\u001b[0m\n\u001b[0;32m      3\u001b[0m value \u001b[38;5;241m=\u001b[39m tinydict\u001b[38;5;241m.\u001b[39mget(\u001b[38;5;124m'\u001b[39m\u001b[38;5;124merror\u001b[39m\u001b[38;5;124m'\u001b[39m,\u001b[38;5;124m\"\u001b[39m\u001b[38;5;124mdefault\u001b[39m\u001b[38;5;124m\"\u001b[39m)\n\u001b[0;32m      4\u001b[0m \u001b[38;5;28mprint\u001b[39m(value)\n\u001b[1;32m----> 5\u001b[0m value \u001b[38;5;241m=\u001b[39m \u001b[43mtinydict\u001b[49m\u001b[43m[\u001b[49m\u001b[38;5;124;43m'\u001b[39;49m\u001b[38;5;124;43merror\u001b[39;49m\u001b[38;5;124;43m'\u001b[39;49m\u001b[43m]\u001b[49m\n",
      "\u001b[1;31mKeyError\u001b[0m: 'error'"
     ]
    }
   ],
   "source": [
    "value = tinydict['a']\n",
    "print(value)\n",
    "value = tinydict.get('error',\"default\")\n",
    "print(value)\n",
    "value = tinydict['error']\n"
   ]
  },
  {
   "cell_type": "markdown",
   "metadata": {},
   "source": [
    "## 增加\n"
   ]
  },
  {
   "cell_type": "code",
   "execution_count": 8,
   "metadata": {},
   "outputs": [
    {
     "name": "stdout",
     "output_type": "stream",
     "text": [
      "{'a': 1, 2: 'two', (3, 4): [3, 4], 'b': 2}\n",
      "{'a': 1, 2: 'two', (3, 4): [3, 4], 'b': 2, 'c': 1}\n"
     ]
    }
   ],
   "source": [
    "tinydict['b'] = 2\n",
    "print(tinydict)\n",
    "tinydict['c'] = tinydict.get('c', 0) + 1\n",
    "print(tinydict)"
   ]
  },
  {
   "cell_type": "markdown",
   "metadata": {},
   "source": [
    "## 删除\n",
    "* del xxx  删除，可以删除某个键，也可以删除整个字典\n",
    "* clear()  dict的内置方法，删除字典内的所有元素"
   ]
  },
  {
   "cell_type": "code",
   "execution_count": 11,
   "metadata": {},
   "outputs": [
    {
     "name": "stdout",
     "output_type": "stream",
     "text": [
      "{'a': 1, 2: 'two', (3, 4): [3, 4]}\n",
      "{}\n"
     ]
    }
   ],
   "source": [
    "del tinydict['b']\n",
    "print(tinydict)\n",
    "tinydict.clear()\n",
    "print(tinydict)"
   ]
  },
  {
   "cell_type": "markdown",
   "metadata": {},
   "source": [
    "## 遍历\n",
    "* 遍历 key\n",
    "* 遍历 key 和 value"
   ]
  },
  {
   "cell_type": "code",
   "execution_count": 3,
   "metadata": {},
   "outputs": [
    {
     "name": "stdout",
     "output_type": "stream",
     "text": [
      "a\n",
      "2\n",
      "(3, 4)\n",
      "a and 1\n",
      "2 and two\n",
      "(3, 4) and [3, 4]\n"
     ]
    }
   ],
   "source": [
    "for key in tinydict:\n",
    "    print(key)\n",
    "\n",
    "for key, value in tinydict.items():\n",
    "    print(f\"{key} and {value}\")"
   ]
  }
 ],
 "metadata": {
  "kernelspec": {
   "display_name": "deep_learn_note",
   "language": "python",
   "name": "python3"
  },
  "language_info": {
   "codemirror_mode": {
    "name": "ipython",
    "version": 3
   },
   "file_extension": ".py",
   "mimetype": "text/x-python",
   "name": "python",
   "nbconvert_exporter": "python",
   "pygments_lexer": "ipython3",
   "version": "3.10.16"
  }
 },
 "nbformat": 4,
 "nbformat_minor": 2
}
